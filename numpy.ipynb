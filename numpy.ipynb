{
  "nbformat": 4,
  "nbformat_minor": 0,
  "metadata": {
    "colab": {
      "provenance": [],
      "authorship_tag": "ABX9TyP4zZ0UE5imjNF2tCyWOw3g",
      "include_colab_link": true
    },
    "kernelspec": {
      "name": "python3",
      "display_name": "Python 3"
    },
    "language_info": {
      "name": "python"
    }
  },
  "cells": [
    {
      "cell_type": "markdown",
      "metadata": {
        "id": "view-in-github",
        "colab_type": "text"
      },
      "source": [
        "<a href=\"https://colab.research.google.com/github/voknerog/data_analyse/blob/main/numpy.ipynb\" target=\"_parent\"><img src=\"https://colab.research.google.com/assets/colab-badge.svg\" alt=\"Open In Colab\"/></a>"
      ]
    },
    {
      "cell_type": "markdown",
      "source": [
        "1. Import the numpy package under the name np (★☆☆)"
      ],
      "metadata": {
        "id": "3bNqOVxcrArV"
      }
    },
    {
      "cell_type": "code",
      "execution_count": null,
      "metadata": {
        "id": "Vf6rQgZWqdJR"
      },
      "outputs": [],
      "source": [
        "import numpy as np"
      ]
    },
    {
      "cell_type": "markdown",
      "source": [
        "2. Print the numpy version and the configuration (★☆☆)"
      ],
      "metadata": {
        "id": "BKuUJbUdrFcT"
      }
    },
    {
      "cell_type": "code",
      "source": [
        "print(np.__version__)"
      ],
      "metadata": {
        "colab": {
          "base_uri": "https://localhost:8080/"
        },
        "id": "LulMEiFlqljN",
        "outputId": "f2f73c7b-f721-4fca-8219-0fdb554fffaa"
      },
      "execution_count": null,
      "outputs": [
        {
          "output_type": "stream",
          "name": "stdout",
          "text": [
            "1.21.6\n"
          ]
        }
      ]
    },
    {
      "cell_type": "markdown",
      "source": [
        "3. Create a null vector of size 10 (★☆☆)"
      ],
      "metadata": {
        "id": "AF8hZkoKrKCG"
      }
    },
    {
      "cell_type": "code",
      "source": [
        "n = 10\n",
        "A = np.zeros(n)"
      ],
      "metadata": {
        "colab": {
          "base_uri": "https://localhost:8080/"
        },
        "id": "sse9gqPLqner",
        "outputId": "d32438a1-7a52-492c-a643-c24214fdb87c"
      },
      "execution_count": null,
      "outputs": [
        {
          "name": "stdout",
          "output_type": "stream",
          "text": [
            "5\n"
          ]
        },
        {
          "output_type": "execute_result",
          "data": {
            "text/plain": [
              "array([0., 0., 0., 0., 0.])"
            ]
          },
          "metadata": {},
          "execution_count": 4
        }
      ]
    },
    {
      "cell_type": "markdown",
      "source": [
        "4. How to find the memory size of any array (★☆☆)"
      ],
      "metadata": {
        "id": "n29aGz3Drfgd"
      }
    },
    {
      "cell_type": "code",
      "source": [
        "print(A.nbytes)\n"
      ],
      "metadata": {
        "colab": {
          "base_uri": "https://localhost:8080/"
        },
        "id": "Y7g0wUNpqngx",
        "outputId": "4dbe1fea-59f5-4360-c4c6-594f5a369bfc"
      },
      "execution_count": null,
      "outputs": [
        {
          "output_type": "stream",
          "name": "stdout",
          "text": [
            "160\n"
          ]
        }
      ]
    },
    {
      "cell_type": "markdown",
      "source": [
        "5. How to get the documentation of the numpy add function from the command line? (★☆☆)\n"
      ],
      "metadata": {
        "id": "rCGaBihOrj7E"
      }
    },
    {
      "cell_type": "code",
      "source": [
        "np.info(np.add)\n",
        "np.info(np.array)"
      ],
      "metadata": {
        "id": "mvLSeWykqnjP"
      },
      "execution_count": null,
      "outputs": []
    },
    {
      "cell_type": "markdown",
      "source": [
        "6. Create a null vector of size 10 but the fifth value which is 1 (★☆☆)"
      ],
      "metadata": {
        "id": "lueMQo2frq8y"
      }
    },
    {
      "cell_type": "code",
      "source": [
        "n = 10\n",
        "A = np.zeros(n)\n",
        "A[4] = 1"
      ],
      "metadata": {
        "colab": {
          "base_uri": "https://localhost:8080/"
        },
        "id": "FtajVw0sqnlX",
        "outputId": "6b8b01b2-1fc7-4863-8925-98001578621a"
      },
      "execution_count": null,
      "outputs": [
        {
          "output_type": "execute_result",
          "data": {
            "text/plain": [
              "array([0., 0., 0., 0., 1., 0., 0., 0., 0., 0.])"
            ]
          },
          "metadata": {},
          "execution_count": 10
        }
      ]
    },
    {
      "cell_type": "markdown",
      "source": [
        "7. Create a vector with values ranging from 10 to 49 (★☆☆)"
      ],
      "metadata": {
        "id": "F_V8PCpisJDm"
      }
    },
    {
      "cell_type": "code",
      "source": [
        "n = 10\n",
        "m = 49\n",
        "A = np.arange(n, m+1)\n"
      ],
      "metadata": {
        "colab": {
          "base_uri": "https://localhost:8080/"
        },
        "id": "PIVPd8Yiqnne",
        "outputId": "ded576ac-6912-4eb9-afa3-da62730d4c91"
      },
      "execution_count": null,
      "outputs": [
        {
          "output_type": "execute_result",
          "data": {
            "text/plain": [
              "array([10, 11, 12, 13, 14, 15, 16, 17, 18, 19, 20, 21, 22, 23, 24, 25, 26,\n",
              "       27, 28, 29, 30, 31, 32, 33, 34, 35, 36, 37, 38, 39, 40, 41, 42, 43,\n",
              "       44, 45, 46, 47, 48, 49])"
            ]
          },
          "metadata": {},
          "execution_count": 11
        }
      ]
    },
    {
      "cell_type": "markdown",
      "source": [
        "8. Reverse a vector (first element becomes last) (★☆☆)\n"
      ],
      "metadata": {
        "id": "TE0NE5sssfFt"
      }
    },
    {
      "cell_type": "code",
      "source": [
        "A = A[::-1]"
      ],
      "metadata": {
        "id": "p0UT8O3Iqnpo"
      },
      "execution_count": null,
      "outputs": []
    },
    {
      "cell_type": "markdown",
      "source": [
        "9. Create a 3x3 matrix with values ranging from 0 to 8 (★☆☆)"
      ],
      "metadata": {
        "id": "XNwWA8x7sm8Y"
      }
    },
    {
      "cell_type": "code",
      "source": [
        "A = np.arange(9)\n",
        "A = np.reshape(A, (3, 3))\n",
        "A"
      ],
      "metadata": {
        "colab": {
          "base_uri": "https://localhost:8080/"
        },
        "id": "R4SdfUu3qnsB",
        "outputId": "3aa75c58-e5cc-41c5-cd65-2e9298ad267d"
      },
      "execution_count": null,
      "outputs": [
        {
          "output_type": "execute_result",
          "data": {
            "text/plain": [
              "array([[0, 1, 2],\n",
              "       [3, 4, 5],\n",
              "       [6, 7, 8]])"
            ]
          },
          "metadata": {},
          "execution_count": 14
        }
      ]
    },
    {
      "cell_type": "markdown",
      "source": [
        "10. Find indices of non-zero elements from [1,2,0,0,4,0] (★☆☆)"
      ],
      "metadata": {
        "id": "TrD_VQr2tD48"
      }
    },
    {
      "cell_type": "code",
      "source": [
        "a_10 = [1,2,0,0,4,0]\n",
        "res_10 = np.nonzero(a_10)\n",
        "res_10[0]\n"
      ],
      "metadata": {
        "colab": {
          "base_uri": "https://localhost:8080/"
        },
        "id": "T6L9cUQTqntv",
        "outputId": "3a1236b4-f1fd-43f2-9949-7797a8e94b5d"
      },
      "execution_count": null,
      "outputs": [
        {
          "output_type": "stream",
          "name": "stdout",
          "text": [
            "[0 1 4]\n"
          ]
        },
        {
          "output_type": "execute_result",
          "data": {
            "text/plain": [
              "array([0, 1, 4])"
            ]
          },
          "metadata": {},
          "execution_count": 42
        }
      ]
    },
    {
      "cell_type": "markdown",
      "source": [
        "11. Create a 3x3 identity matrix (★☆☆)"
      ],
      "metadata": {
        "id": "CchswCWJvQyy"
      }
    },
    {
      "cell_type": "code",
      "source": [
        "a_11 = np.identity(3)\n",
        "a_11"
      ],
      "metadata": {
        "colab": {
          "base_uri": "https://localhost:8080/"
        },
        "id": "8_ccIfknu8Nb",
        "outputId": "694ca0f3-20f6-46bd-b68a-c905e24b1824"
      },
      "execution_count": null,
      "outputs": [
        {
          "output_type": "execute_result",
          "data": {
            "text/plain": [
              "array([[1., 0., 0.],\n",
              "       [0., 1., 0.],\n",
              "       [0., 0., 1.]])"
            ]
          },
          "metadata": {},
          "execution_count": 43
        }
      ]
    }
  ]
}